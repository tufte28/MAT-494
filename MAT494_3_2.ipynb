{
  "nbformat": 4,
  "nbformat_minor": 0,
  "metadata": {
    "colab": {
      "provenance": [],
      "authorship_tag": "ABX9TyP3YXGKSAHbDeEmgecwFp/9",
      "include_colab_link": true
    },
    "kernelspec": {
      "name": "python3",
      "display_name": "Python 3"
    },
    "language_info": {
      "name": "python"
    }
  },
  "cells": [
    {
      "cell_type": "markdown",
      "metadata": {
        "id": "view-in-github",
        "colab_type": "text"
      },
      "source": [
        "<a href=\"https://colab.research.google.com/github/tufte28/MAT-494/blob/main/MAT494_3_2.ipynb\" target=\"_parent\"><img src=\"https://colab.research.google.com/assets/colab-badge.svg\" alt=\"Open In Colab\"/></a>"
      ]
    },
    {
      "cell_type": "markdown",
      "source": [
        "3.2 Continuity and Differentation"
      ],
      "metadata": {
        "id": "Iu_qWKX6GCK9"
      }
    },
    {
      "cell_type": "markdown",
      "source": [
        "3.2.1 Limits and Differentiation"
      ],
      "metadata": {
        "id": "yQrY9leXGlc3"
      }
    },
    {
      "cell_type": "code",
      "execution_count": 11,
      "metadata": {
        "colab": {
          "base_uri": "https://localhost:8080/"
        },
        "id": "uZScsT0vFgvP",
        "outputId": "54ede21c-6186-4367-a516-06d799bfb149"
      },
      "outputs": [
        {
          "output_type": "stream",
          "name": "stdout",
          "text": [
            "The limit of y is 1\n"
          ]
        }
      ],
      "source": [
        "from sympy import limit, Symbol\n",
        "import math\n",
        "import sympy as sp\n",
        "x = Symbol('x') \n",
        "e = math.e\n",
        "y = e**x\n",
        "L = limit(y, x, 0)\n",
        "print(\"The limit of y is\",L)"
      ]
    },
    {
      "cell_type": "code",
      "source": [
        "x = Symbol('x') \n",
        "y = (5*x)**(1/2)\n",
        "L = limit(y, x, 0)\n",
        "print(\"The limit of y is\",L)"
      ],
      "metadata": {
        "colab": {
          "base_uri": "https://localhost:8080/"
        },
        "id": "Jk8Y0ePWJEsu",
        "outputId": "c470f88b-f669-4f5e-aff1-bac6ec3000f8"
      },
      "execution_count": 12,
      "outputs": [
        {
          "output_type": "stream",
          "name": "stdout",
          "text": [
            "The limit of y is 0\n"
          ]
        }
      ]
    },
    {
      "cell_type": "code",
      "source": [
        "x = Symbol('x') \n",
        "y = (sp.sin(x))/(x*sp.tan(x))\n",
        "L = limit(y, x, 0)\n",
        "print(\"The limit of y is\",L)"
      ],
      "metadata": {
        "colab": {
          "base_uri": "https://localhost:8080/"
        },
        "id": "OGos85qMPz_H",
        "outputId": "d5660b76-7f75-41ab-d4e2-89713291244d"
      },
      "execution_count": 13,
      "outputs": [
        {
          "output_type": "stream",
          "name": "stdout",
          "text": [
            "The limit of y is oo\n"
          ]
        }
      ]
    },
    {
      "cell_type": "markdown",
      "source": [
        "Continuity"
      ],
      "metadata": {
        "id": "GU7aH5UPQrqA"
      }
    },
    {
      "cell_type": "code",
      "source": [
        "import numpy as np\n",
        "import matplotlib.pyplot as plt\n",
        "def fone(x):\n",
        "    return x**2\n",
        "\n",
        "fxone = np.linspace(-10, 10, 1000)\n",
        "plt.figure(figsize=(5,5))\n",
        "plt.plot(fxone, fone(fxone), fxone, fone(fxone))\n",
        "plt.xlim([-10, 10])\n",
        "plt.ylim([-2, 20])\n",
        "print(plt)"
      ],
      "metadata": {
        "colab": {
          "base_uri": "https://localhost:8080/",
          "height": 342
        },
        "id": "5uYda7FVQ6E_",
        "outputId": "be6506c1-50a2-44ca-ff85-92f8e52bf319"
      },
      "execution_count": 31,
      "outputs": [
        {
          "output_type": "stream",
          "name": "stdout",
          "text": [
            "<module 'matplotlib.pyplot' from '/usr/local/lib/python3.7/dist-packages/matplotlib/pyplot.py'>\n"
          ]
        },
        {
          "output_type": "display_data",
          "data": {
            "text/plain": [
              "<Figure size 360x360 with 1 Axes>"
            ],
            "image/png": "[encoded data removed]"
          },
          "metadata": {
            "needs_background": "light"
          }
        }
      ]
    },
    {
      "cell_type": "markdown",
      "source": [
        "Clearly defined at every point and the limit as x approaches any a from the left is the same as x approaches a from the right. Thus, the function is continuous for all x."
      ],
      "metadata": {
        "id": "xgWZtc-vR1YZ"
      }
    },
    {
      "cell_type": "code",
      "source": [
        "def ftwo(x):\n",
        "    return 1 / abs(x)\n",
        "\n",
        "fxtwo = np.linspace(-10, 10, 10000)\n",
        "plt.figure(figsize=(10,5))\n",
        "plt.plot(fxtwo, ftwo(fxtwo), fxtwo, ftwo(fxtwo))\n",
        "plt.xlim([-5, 5])\n",
        "plt.ylim([0, 100])\n",
        "print(plt)"
      ],
      "metadata": {
        "colab": {
          "base_uri": "https://localhost:8080/",
          "height": 342
        },
        "id": "Khj2lK9MR1zV",
        "outputId": "a171b09d-6976-44f8-f944-61eda1a7561f"
      },
      "execution_count": 32,
      "outputs": [
        {
          "output_type": "stream",
          "name": "stdout",
          "text": [
            "<module 'matplotlib.pyplot' from '/usr/local/lib/python3.7/dist-packages/matplotlib/pyplot.py'>\n"
          ]
        },
        {
          "output_type": "display_data",
          "data": {
            "text/plain": [
              "<Figure size 720x360 with 1 Axes>"
            ],
            "image/png": "[encoded data removed]"
          },
          "metadata": {
            "needs_background": "light"
          }
        }
      ]
    },
    {
      "cell_type": "markdown",
      "source": [
        "While the limit as x approaches each a from the left is equal to the limit as x approaches each a from the right, the function is not defined at x=0. Thus, the function is discontinuous at x=0."
      ],
      "metadata": {
        "id": "DezoqD2mS6_w"
      }
    },
    {
      "cell_type": "markdown",
      "source": [
        "3.2.2: Derivatives"
      ],
      "metadata": {
        "id": "N7CnSqI-TYtU"
      }
    },
    {
      "cell_type": "markdown",
      "source": [
        "Calculating a simple derivative for a general equation via power rule."
      ],
      "metadata": {
        "id": "JsOJNDy5T6rF"
      }
    },
    {
      "cell_type": "code",
      "source": [
        "x = Symbol('x')\n",
        "f = 2*x**3\n",
        "f.diff(x)"
      ],
      "metadata": {
        "colab": {
          "base_uri": "https://localhost:8080/",
          "height": 39
        },
        "id": "8d52faKdTp3e",
        "outputId": "8b8278ed-5232-46c2-d459-6a46acb740a3"
      },
      "execution_count": 35,
      "outputs": [
        {
          "output_type": "execute_result",
          "data": {
            "text/plain": [
              "6*x**2"
            ],
            "text/latex": "$\\displaystyle 6 x^{2}$"
          },
          "metadata": {},
          "execution_count": 35
        }
      ]
    },
    {
      "cell_type": "markdown",
      "source": [
        "Calculating a derivative at a specific x value"
      ],
      "metadata": {
        "id": "Rr_Fi3wqUFI6"
      }
    },
    {
      "cell_type": "code",
      "source": [
        "from sympy import *\n",
        "x = Symbol('x')\n",
        "f = 2*x**3\n",
        "fone = lambdify(x, f)\n",
        "fone(23)"
      ],
      "metadata": {
        "colab": {
          "base_uri": "https://localhost:8080/"
        },
        "id": "AlRPSlkhUJys",
        "outputId": "b5dd430d-528e-4ab3-89a4-c7d32d891936"
      },
      "execution_count": 26,
      "outputs": [
        {
          "output_type": "execute_result",
          "data": {
            "text/plain": [
              "24334"
            ]
          },
          "metadata": {},
          "execution_count": 26
        }
      ]
    },
    {
      "cell_type": "markdown",
      "source": [
        "Calculating a more complex derivative via product rule"
      ],
      "metadata": {
        "id": "Mky9n_BHU6o5"
      }
    },
    {
      "cell_type": "code",
      "source": [
        "import sympy as sp\n",
        "x = sp.Symbol('x')\n",
        "e = math.e\n",
        "f = sp.sin(x)*(e**(2*x))\n",
        "f.diff(x)"
      ],
      "metadata": {
        "colab": {
          "base_uri": "https://localhost:8080/",
          "height": 39
        },
        "id": "xL7wK6vFVC8W",
        "outputId": "65a3598e-fe93-47c3-cfda-91977651d78f"
      },
      "execution_count": 27,
      "outputs": [
        {
          "output_type": "execute_result",
          "data": {
            "text/plain": [
              "2.0*2.71828182845905**(2*x)*sin(x) + 2.71828182845905**(2*x)*cos(x)"
            ],
            "text/latex": "$\\displaystyle 2.0 \\cdot 2.71828182845905^{2 x} \\sin{\\left(x \\right)} + 2.71828182845905^{2 x} \\cos{\\left(x \\right)}$"
          },
          "metadata": {},
          "execution_count": 27
        }
      ]
    },
    {
      "cell_type": "markdown",
      "source": [
        "Double Derivative"
      ],
      "metadata": {
        "id": "mzwnagnPV_rw"
      }
    },
    {
      "cell_type": "code",
      "source": [
        "x = Symbol('x')\n",
        "f = 2*x**3\n",
        "(f.diff(x)).diff(x)"
      ],
      "metadata": {
        "colab": {
          "base_uri": "https://localhost:8080/",
          "height": 39
        },
        "id": "EPe0AbVDWAC7",
        "outputId": "0360d0cc-cf13-46a6-9055-c4912b2a8f07"
      },
      "execution_count": 29,
      "outputs": [
        {
          "output_type": "execute_result",
          "data": {
            "text/plain": [
              "12*x"
            ],
            "text/latex": "$\\displaystyle 12 x$"
          },
          "metadata": {},
          "execution_count": 29
        }
      ]
    },
    {
      "cell_type": "markdown",
      "source": [
        "Partial Derivatives and Chain Rule"
      ],
      "metadata": {
        "id": "2unGF80SWZQc"
      }
    },
    {
      "cell_type": "code",
      "source": [
        "from sympy import symbols, diff\n",
        "x, y, z = symbols('x y z', real=True)\n",
        "e = math.e\n",
        "f = sp.sin(x)*y+e**(z*y)-8*x*y\n",
        "print(\"Partial derivative with respect to x: \", diff(f, x))\n",
        "print(\"Partial derivative with respect to y: \", diff(f, y))\n",
        "print(\"Partial derivative with respect to z: \", diff(f, z))"
      ],
      "metadata": {
        "colab": {
          "base_uri": "https://localhost:8080/"
        },
        "id": "9-EiBJ75Wa9e",
        "outputId": "eb782aec-7a35-4cfe-f0c0-c48988bc91fb"
      },
      "execution_count": 38,
      "outputs": [
        {
          "output_type": "stream",
          "name": "stdout",
          "text": [
            "Partial derivative with respect to x:  y*cos(x) - 8*y\n",
            "Partial derivative with respect to y:  1.0*2.71828182845905**(y*z)*z - 8*x + sin(x)\n",
            "Partial derivative with respect to z:  1.0*2.71828182845905**(y*z)*y\n"
          ]
        }
      ]
    },
    {
      "cell_type": "markdown",
      "source": [
        "Jacobian"
      ],
      "metadata": {
        "id": "uRFOQbXaYL5e"
      }
    },
    {
      "cell_type": "code",
      "source": [
        "from sympy import Matrix\n",
        "x0 = Symbol('x0')\n",
        "x1 = Symbol('x1')\n",
        "X = Matrix([x0*sp.cos(x1), x0*sp.sin(x1), x0**2])\n",
        "Y = Matrix([x0, x1])\n",
        "\n",
        "X.jacobian(Y)"
      ],
      "metadata": {
        "colab": {
          "base_uri": "https://localhost:8080/",
          "height": 78
        },
        "id": "mPHUs9U9YSqG",
        "outputId": "a4b129dd-0c76-4ba2-bc21-c7c4ff9fd61a"
      },
      "execution_count": 39,
      "outputs": [
        {
          "output_type": "execute_result",
          "data": {
            "text/plain": [
              "Matrix([\n",
              "[cos(x1), -x0*sin(x1)],\n",
              "[sin(x1),  x0*cos(x1)],\n",
              "[   2*x0,           0]])"
            ],
            "text/latex": "$\\displaystyle \\left[\\begin{matrix}\\cos{\\left(x_{1} \\right)} & - x_{0} \\sin{\\left(x_{1} \\right)}\\\\\\sin{\\left(x_{1} \\right)} & x_{0} \\cos{\\left(x_{1} \\right)}\\\\2 x_{0} & 0\\end{matrix}\\right]$"
          },
          "metadata": {},
          "execution_count": 39
        }
      ]
    },
    {
      "cell_type": "markdown",
      "source": [
        "Gradient from Partial Derivatives Example"
      ],
      "metadata": {
        "id": "5sUgGgDBacPJ"
      }
    },
    {
      "cell_type": "code",
      "source": [
        "from sympy import symbols, diff\n",
        "x, y, z, i, j, k = symbols('x y z i j k', real=True)\n",
        "e = math.e\n",
        "f = sp.sin(x)*y+e**(z*y)-8*x*y\n",
        "print(\"Gradient is \", diff(f, x)*i + diff(f, y)*j + diff(f, z)*k)"
      ],
      "metadata": {
        "colab": {
          "base_uri": "https://localhost:8080/"
        },
        "id": "2ujQOIByY73u",
        "outputId": "440b2c80-c58b-402e-c0db-a47ba4d05fc5"
      },
      "execution_count": 47,
      "outputs": [
        {
          "output_type": "stream",
          "name": "stdout",
          "text": [
            "Gradient is  1.0*2.71828182845905**(y*z)*k*y + i*(y*cos(x) - 8*y) + j*(1.0*2.71828182845905**(y*z)*z - 8*x + sin(x))\n"
          ]
        }
      ]
    },
    {
      "cell_type": "markdown",
      "source": [],
      "metadata": {
        "id": "dumH0KhVcYjk"
      }
    },
    {
      "cell_type": "code",
      "source": [
        "import numpy as np\n",
        "import matplotlib.pyplot as plt\n",
        "\n",
        "plt.style.use('seaborn-poster')"
      ],
      "metadata": {
        "id": "4l31z05seNP9"
      },
      "execution_count": 57,
      "outputs": []
    },
    {
      "cell_type": "code",
      "source": [
        "x = np.linspace(-np.pi, np.pi, 200)\n",
        "y = np.zeros(len(x))\n",
        "\n",
        "labels = ['First Order', 'Third Order', 'Fifth Order', 'Seventh Order']\n",
        "\n",
        "plt.figure(figsize = (8,8))\n",
        "for n, label in zip(range(4), labels):\n",
        "    y = y + ((-1)**n * (x)**(2*n+1)) / np.math.factorial(2*n+1)\n",
        "    plt.plot(x,y, label = label)\n",
        "\n",
        "plt.plot(x, np.sin(x), 'k', label = 'Analytic')\n",
        "plt.grid()\n",
        "plt.title('Taylor Series Approximations of Various Orders')\n",
        "plt.xlabel('x')\n",
        "plt.ylabel('y')\n",
        "plt.legend()\n",
        "plt.show()"
      ],
      "metadata": {
        "colab": {
          "base_uri": "https://localhost:8080/",
          "height": 538
        },
        "id": "3OQYMBeEfBdU",
        "outputId": "1de982f6-6847-4a65-d24b-cd280a1c4a1e"
      },
      "execution_count": 67,
      "outputs": [
        {
          "output_type": "display_data",
          "data": {
            "text/plain": [
              "<Figure size 576x576 with 1 Axes>"
            ],
            "image/png": "[encoded data removed]"
          },
          "metadata": {
            "needs_background": "light"
          }
        }
      ]
    }
  ]
}