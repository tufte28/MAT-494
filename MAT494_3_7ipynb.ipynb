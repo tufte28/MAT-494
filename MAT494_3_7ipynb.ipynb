{
  "nbformat": 4,
  "nbformat_minor": 0,
  "metadata": {
    "colab": {
      "provenance": [],
      "authorship_tag": "ABX9TyPhle0QzBKlXltPmiACNnew",
      "include_colab_link": true
    },
    "kernelspec": {
      "name": "python3",
      "display_name": "Python 3"
    },
    "language_info": {
      "name": "python"
    }
  },
  "cells": [
    {
      "cell_type": "markdown",
      "metadata": {
        "id": "view-in-github",
        "colab_type": "text"
      },
      "source": [
        "<a href=\"https://colab.research.google.com/github/tufte28/MAT-494/blob/main/MAT494_3_7ipynb.ipynb\" target=\"_parent\"><img src=\"https://colab.research.google.com/assets/colab-badge.svg\" alt=\"Open In Colab\"/></a>"
      ]
    },
    {
      "cell_type": "markdown",
      "source": [
        "3.7: Neural Networks"
      ],
      "metadata": {
        "id": "PIV-UYF6-iY2"
      }
    },
    {
      "cell_type": "code",
      "execution_count": 1,
      "metadata": {
        "id": "8q8JLgeR-g67"
      },
      "outputs": [],
      "source": [
        "import tensorflow as tf"
      ]
    },
    {
      "cell_type": "code",
      "source": [
        "mnist = tf.keras.datasets.mnist\n",
        "\n",
        "(x_train, y_train), (x_test, y_test) = mnist.load_data()\n",
        "x_train, x_test = x_train / 200.0, x_test / 200.0"
      ],
      "metadata": {
        "id": "R8XPpy_f_jBL"
      },
      "execution_count": 3,
      "outputs": []
    },
    {
      "cell_type": "code",
      "source": [
        "model = tf.keras.models.Sequential([\n",
        "  tf.keras.layers.Flatten(input_shape=(28, 28)),\n",
        "  tf.keras.layers.Dense(100, activation='relu'),\n",
        "  tf.keras.layers.Dropout(0.2),\n",
        "  tf.keras.layers.Dense(20)\n",
        "])"
      ],
      "metadata": {
        "id": "WR5a8RYD_17s"
      },
      "execution_count": 20,
      "outputs": []
    },
    {
      "cell_type": "code",
      "source": [
        "predictions = model(x_train[:1]).numpy()\n",
        "predictions"
      ],
      "metadata": {
        "colab": {
          "base_uri": "https://localhost:8080/"
        },
        "id": "q6FeE161_5ep",
        "outputId": "c08a1430-0e50-49cf-ced3-d56ae774e905"
      },
      "execution_count": 21,
      "outputs": [
        {
          "output_type": "execute_result",
          "data": {
            "text/plain": [
              "array([[-0.6841417 , -0.9652959 ,  0.41612262, -1.2012403 , -0.6774023 ,\n",
              "         0.2048088 ,  0.30325544, -0.43391094,  1.1205227 , -0.01010868,\n",
              "         0.1179336 ,  0.43705615, -0.04697001,  0.21658   ,  0.33577678,\n",
              "        -0.30950782,  0.4244152 , -0.01708423,  0.10903049, -0.32312882]],\n",
              "      dtype=float32)"
            ]
          },
          "metadata": {},
          "execution_count": 21
        }
      ]
    },
    {
      "cell_type": "code",
      "source": [
        "tf.nn.softmax(predictions).numpy()"
      ],
      "metadata": {
        "colab": {
          "base_uri": "https://localhost:8080/"
        },
        "id": "PMigWifo_-QI",
        "outputId": "964561cd-a8f2-4b6b-cd62-36cba69896e1"
      },
      "execution_count": 22,
      "outputs": [
        {
          "output_type": "execute_result",
          "data": {
            "text/plain": [
              "array([[0.02309129, 0.01743189, 0.06938842, 0.01376814, 0.02324744,\n",
              "        0.05617131, 0.06198254, 0.02965665, 0.1403473 , 0.04530822,\n",
              "        0.05149738, 0.07085627, 0.04366851, 0.05683643, 0.06403144,\n",
              "        0.03358534, 0.06996622, 0.04499328, 0.05104093, 0.03313097]],\n",
              "      dtype=float32)"
            ]
          },
          "metadata": {},
          "execution_count": 22
        }
      ]
    },
    {
      "cell_type": "code",
      "source": [
        "loss_fn = tf.keras.losses.SparseCategoricalCrossentropy(from_logits=True)\n",
        "loss_fn(y_train[:1], predictions).numpy()"
      ],
      "metadata": {
        "colab": {
          "base_uri": "https://localhost:8080/"
        },
        "id": "iHWZXHhI_-0T",
        "outputId": "124368cf-9419-4cd1-e58e-78e21e410678"
      },
      "execution_count": 23,
      "outputs": [
        {
          "output_type": "execute_result",
          "data": {
            "text/plain": [
              "2.8793492"
            ]
          },
          "metadata": {},
          "execution_count": 23
        }
      ]
    },
    {
      "cell_type": "code",
      "source": [
        "model.compile(optimizer='adam',\n",
        "              loss=loss_fn,\n",
        "              metrics=['accuracy'])\n",
        "model.fit(x_train, y_train, epochs=5)"
      ],
      "metadata": {
        "colab": {
          "base_uri": "https://localhost:8080/"
        },
        "id": "JJiu2lWtAB8D",
        "outputId": "02642d17-28f6-4c7f-bc0a-25174c617ab6"
      },
      "execution_count": 24,
      "outputs": [
        {
          "output_type": "stream",
          "name": "stdout",
          "text": [
            "Epoch 1/5\n",
            "1875/1875 [==============================] - 5s 2ms/step - loss: 0.3219 - accuracy: 0.9051\n",
            "Epoch 2/5\n",
            "1875/1875 [==============================] - 5s 2ms/step - loss: 0.1533 - accuracy: 0.9545\n",
            "Epoch 3/5\n",
            "1875/1875 [==============================] - 4s 2ms/step - loss: 0.1159 - accuracy: 0.9653\n",
            "Epoch 4/5\n",
            "1875/1875 [==============================] - 4s 2ms/step - loss: 0.0984 - accuracy: 0.9691\n",
            "Epoch 5/5\n",
            "1875/1875 [==============================] - 4s 2ms/step - loss: 0.0872 - accuracy: 0.9725\n"
          ]
        },
        {
          "output_type": "execute_result",
          "data": {
            "text/plain": [
              "<keras.callbacks.History at 0x7fb1a253cc10>"
            ]
          },
          "metadata": {},
          "execution_count": 24
        }
      ]
    },
    {
      "cell_type": "code",
      "source": [
        "model.evaluate(x_test,  y_test, verbose=2)"
      ],
      "metadata": {
        "colab": {
          "base_uri": "https://localhost:8080/"
        },
        "id": "VOdX_e_jAP9l",
        "outputId": "9bdaf915-d1e6-4b08-a1fc-fdf47e794b4b"
      },
      "execution_count": 25,
      "outputs": [
        {
          "output_type": "stream",
          "name": "stdout",
          "text": [
            "313/313 - 1s - loss: 0.0752 - accuracy: 0.9765 - 520ms/epoch - 2ms/step\n"
          ]
        },
        {
          "output_type": "execute_result",
          "data": {
            "text/plain": [
              "[0.0752096101641655, 0.9764999747276306]"
            ]
          },
          "metadata": {},
          "execution_count": 25
        }
      ]
    },
    {
      "cell_type": "code",
      "source": [
        "probability_model = tf.keras.Sequential([\n",
        "  model,\n",
        "  tf.keras.layers.Softmax()\n",
        "])"
      ],
      "metadata": {
        "id": "DABo7tBvATCn"
      },
      "execution_count": 27,
      "outputs": []
    },
    {
      "cell_type": "code",
      "source": [
        "probability_model(x_test[:5])"
      ],
      "metadata": {
        "colab": {
          "base_uri": "https://localhost:8080/"
        },
        "id": "rHqbaz-YAWz6",
        "outputId": "9b9bf8d5-8772-4a20-ad9f-79f651661fc0"
      },
      "execution_count": 28,
      "outputs": [
        {
          "output_type": "execute_result",
          "data": {
            "text/plain": [
              "<tf.Tensor: shape=(5, 20), dtype=float32, numpy=\n",
              "array([[4.71831214e-08, 2.23642314e-06, 4.05032324e-06, 1.70918156e-05,\n",
              "        7.63176397e-11, 1.59581020e-07, 1.04648722e-12, 9.99975920e-01,\n",
              "        2.00746300e-07, 3.23636556e-07, 4.06718116e-13, 3.13926700e-13,\n",
              "        3.57057916e-13, 3.72354972e-14, 2.63366369e-13, 2.43689780e-13,\n",
              "        2.20128522e-13, 1.91944578e-13, 2.00701370e-12, 1.90973946e-13],\n",
              "       [7.58127872e-09, 3.59735568e-04, 9.99609172e-01, 2.91135402e-05,\n",
              "        1.82003647e-14, 7.67767744e-07, 4.08555717e-10, 6.05515583e-13,\n",
              "        1.13972362e-06, 1.49700061e-11, 1.91424745e-15, 2.43350547e-17,\n",
              "        1.05895947e-16, 7.14655263e-17, 1.69874483e-16, 6.18829433e-17,\n",
              "        1.53326013e-16, 1.24381958e-16, 1.20593285e-16, 3.65043407e-18],\n",
              "       [2.18009699e-08, 9.99771416e-01, 8.16398642e-06, 1.31345041e-06,\n",
              "        2.42541273e-06, 6.80142057e-06, 2.05820816e-05, 1.58053575e-04,\n",
              "        3.12891316e-05, 5.29568851e-08, 4.92132279e-10, 5.48805945e-10,\n",
              "        5.13565822e-11, 1.73191489e-10, 2.70039935e-10, 1.38760933e-10,\n",
              "        3.57416707e-10, 7.86468668e-10, 7.27081242e-11, 3.84431237e-10],\n",
              "       [9.99951959e-01, 3.81421339e-09, 2.54782917e-05, 1.17262395e-08,\n",
              "        8.44969179e-08, 2.00698150e-06, 8.28447355e-06, 1.15265275e-05,\n",
              "        1.14420677e-08, 6.14165288e-07, 2.18245821e-12, 6.02129295e-13,\n",
              "        2.20532360e-11, 1.73349738e-13, 1.16604721e-11, 1.12258943e-12,\n",
              "        7.84950338e-13, 1.94804698e-12, 2.31896169e-11, 1.83186127e-12],\n",
              "       [4.50958169e-06, 3.28741878e-09, 1.81803061e-05, 6.13425257e-08,\n",
              "        9.97875452e-01, 1.36887127e-06, 1.23440748e-06, 1.26119092e-04,\n",
              "        2.27890041e-06, 1.97084108e-03, 4.93902523e-11, 8.51424695e-11,\n",
              "        5.16944369e-11, 1.85457270e-12, 8.56965748e-11, 3.11408919e-11,\n",
              "        1.88581720e-11, 2.11809060e-11, 2.10365392e-10, 1.04687280e-10]],\n",
              "      dtype=float32)>"
            ]
          },
          "metadata": {},
          "execution_count": 28
        }
      ]
    }
  ]
}