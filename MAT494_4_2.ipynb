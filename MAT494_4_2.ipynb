{
  "nbformat": 4,
  "nbformat_minor": 0,
  "metadata": {
    "colab": {
      "provenance": [],
      "authorship_tag": "ABX9TyMzPha56y2/cHpzvmWacEBW",
      "include_colab_link": true
    },
    "kernelspec": {
      "name": "python3",
      "display_name": "Python 3"
    },
    "language_info": {
      "name": "python"
    }
  },
  "cells": [
    {
      "cell_type": "markdown",
      "metadata": {
        "id": "view-in-github",
        "colab_type": "text"
      },
      "source": [
        "<a href=\"https://colab.research.google.com/github/tufte28/MAT-494/blob/main/MAT494_4_2.ipynb\" target=\"_parent\"><img src=\"https://colab.research.google.com/assets/colab-badge.svg\" alt=\"Open In Colab\"/></a>"
      ]
    },
    {
      "cell_type": "markdown",
      "source": [
        "4.2 Spectral Graph Bipartitioning"
      ],
      "metadata": {
        "id": "eLRi1dZYoP-S"
      }
    },
    {
      "cell_type": "code",
      "execution_count": 4,
      "metadata": {
        "colab": {
          "base_uri": "https://localhost:8080/"
        },
        "id": "iXRlXrfnoFRT",
        "outputId": "7ca83cf5-f89f-41dd-9ab8-805283958651"
      },
      "outputs": [
        {
          "output_type": "stream",
          "name": "stdout",
          "text": [
            "nmi: 1.0\n"
          ]
        }
      ],
      "source": [
        "import networkx as nx\n",
        "from sklearn.cluster import SpectralClustering\n",
        "from sklearn.metrics.cluster import normalized_mutual_info_score\n",
        "import numpy as np\n",
        "# Here, we create a stochastic block model with 4 clusters for evaluation\n",
        "sizes = [150, 150, 150, 150]        \n",
        "probs = [[0.20, 0.05, 0.02, 0.03], [0.05, 0.30, 0.07, 0.02], [0.02, 0.07, 0.30, 0.05], [0.03, 0.02, 0.05, 0.50]]\n",
        "G = nx.stochastic_block_model(sizes, probs, seed=0)\n",
        "adj = nx.adjacency_matrix(G)\n",
        "n_clusters = 4\n",
        "node_labels = [G.nodes[n]['block'] for n in np.sort(G.nodes)]\n",
        "spectral_clusters = SpectralClustering(n_clusters=n_clusters, assign_labels=\"discretize\", affinity='precomputed').fit_predict(adj)\n",
        "# Get the result\n",
        "nmi = normalized_mutual_info_score(spectral_clusters, node_labels)\n",
        "print(\"nmi:\", nmi)"
      ]
    }
  ]
}