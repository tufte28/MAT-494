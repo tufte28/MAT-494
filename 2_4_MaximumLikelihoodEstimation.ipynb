{
  "nbformat": 4,
  "nbformat_minor": 0,
  "metadata": {
    "colab": {
      "provenance": [],
      "authorship_tag": "ABX9TyN2pEBdQjCSZy2Y/r975UXB",
      "include_colab_link": true
    },
    "kernelspec": {
      "name": "python3",
      "display_name": "Python 3"
    },
    "language_info": {
      "name": "python"
    }
  },
  "cells": [
    {
      "cell_type": "markdown",
      "metadata": {
        "id": "view-in-github",
        "colab_type": "text"
      },
      "source": [
        "<a href=\"https://colab.research.google.com/github/tufte28/MAT-494/blob/main/2_4_MaximumLikelihoodEstimation.ipynb\" target=\"_parent\"><img src=\"https://colab.research.google.com/assets/colab-badge.svg\" alt=\"Open In Colab\"/></a>"
      ]
    },
    {
      "cell_type": "markdown",
      "source": [
        "2.4 Maximum Likelihood Estimation"
      ],
      "metadata": {
        "id": "mXLPIzWBZtVl"
      }
    },
    {
      "cell_type": "code",
      "execution_count": 2,
      "metadata": {
        "id": "IWJhI1CxQjPC"
      },
      "outputs": [],
      "source": [
        "import numpy as np\n",
        "import seaborn as sns\n",
        "from statsmodels import api\n",
        "from scipy import stats\n",
        "from scipy.optimize import minimize\n",
        "from matplotlib import pyplot as plt\n",
        "import pandas as pd"
      ]
    },
    {
      "cell_type": "markdown",
      "source": [
        "Create continuous domain for fabricated independent variable"
      ],
      "metadata": {
        "id": "yQPmU0l8wkLp"
      }
    },
    {
      "cell_type": "code",
      "source": [
        "x = np.linspace(0, 100, 50)"
      ],
      "metadata": {
        "id": "pkD7l5u3otD7"
      },
      "execution_count": 21,
      "outputs": []
    },
    {
      "cell_type": "markdown",
      "source": [
        "Establish normally distributed residuals and input into fabricated regression equation (plot)"
      ],
      "metadata": {
        "id": "vcSblwOswyDo"
      }
    },
    {
      "cell_type": "code",
      "source": [
        "e = np.random.normal(20, 10, 50)\n",
        "y = 12 + 5.6*x + e\n",
        "Data = pd.DataFrame({'x':x, 'y':y})\n",
        "sns.regplot(x='x', y='y', data = Data)\n",
        "plt.show()"
      ],
      "metadata": {
        "colab": {
          "base_uri": "https://localhost:8080/",
          "height": 279
        },
        "id": "-5nyk6j4wywr",
        "outputId": "865e8ff0-e516-4735-9f1f-526137015c04"
      },
      "execution_count": 22,
      "outputs": [
        {
          "output_type": "display_data",
          "data": {
            "text/plain": [
              "<Figure size 432x288 with 1 Axes>"
            ],
            "image/png": "[encoded data removed]"
          },
          "metadata": {
            "needs_background": "light"
          }
        }
      ]
    },
    {
      "cell_type": "markdown",
      "source": [
        "Perform OLS Regression"
      ],
      "metadata": {
        "id": "_HzgP-W5xUBX"
      }
    },
    {
      "cell_type": "code",
      "source": [
        "features = api.add_constant(Data.x)\n",
        "model = api.OLS(y, features).fit()\n",
        "model.summary()"
      ],
      "metadata": {
        "colab": {
          "base_uri": "https://localhost:8080/",
          "height": 507
        },
        "id": "6rubOg9sq1V_",
        "outputId": "5c4883d0-451f-4120-de6a-5ed3b874fcd9"
      },
      "execution_count": 14,
      "outputs": [
        {
          "output_type": "stream",
          "name": "stderr",
          "text": [
            "/usr/local/lib/python3.7/dist-packages/statsmodels/tsa/tsatools.py:142: FutureWarning: In a future version of pandas all arguments of concat except for the argument 'objs' will be keyword-only\n",
            "  x = pd.concat(x[::order], 1)\n"
          ]
        },
        {
          "output_type": "execute_result",
          "data": {
            "text/plain": [
              "<class 'statsmodels.iolib.summary.Summary'>\n",
              "\"\"\"\n",
              "                            OLS Regression Results                            \n",
              "==============================================================================\n",
              "Dep. Variable:                      y   R-squared:                       0.997\n",
              "Model:                            OLS   Adj. R-squared:                  0.997\n",
              "Method:                 Least Squares   F-statistic:                 1.431e+04\n",
              "Date:                Mon, 03 Oct 2022   Prob (F-statistic):           4.35e-61\n",
              "Time:                        02:41:26   Log-Likelihood:                -183.01\n",
              "No. Observations:                  50   AIC:                             370.0\n",
              "Df Residuals:                      48   BIC:                             373.8\n",
              "Df Model:                           1                                         \n",
              "Covariance Type:            nonrobust                                         \n",
              "==============================================================================\n",
              "                 coef    std err          t      P>|t|      [0.025      0.975]\n",
              "------------------------------------------------------------------------------\n",
              "const         35.1251      2.675     13.132      0.000      29.747      40.503\n",
              "x              5.5140      0.046    119.626      0.000       5.421       5.607\n",
              "==============================================================================\n",
              "Omnibus:                        0.982   Durbin-Watson:                   2.259\n",
              "Prob(Omnibus):                  0.612   Jarque-Bera (JB):                0.440\n",
              "Skew:                          -0.204   Prob(JB):                        0.802\n",
              "Kurtosis:                       3.211   Cond. No.                         114.\n",
              "==============================================================================\n",
              "\n",
              "Notes:\n",
              "[1] Standard Errors assume that the covariance matrix of the errors is correctly specified.\n",
              "\"\"\""
            ],
            "text/html": [
              "<table class=\"simpletable\">\n",
              "<caption>OLS Regression Results</caption>\n",
              "<tr>\n",
              "  <th>Dep. Variable:</th>            <td>y</td>        <th>  R-squared:         </th> <td>   0.997</td> \n",
              "</tr>\n",
              "<tr>\n",
              "  <th>Model:</th>                   <td>OLS</td>       <th>  Adj. R-squared:    </th> <td>   0.997</td> \n",
              "</tr>\n",
              "<tr>\n",
              "  <th>Method:</th>             <td>Least Squares</td>  <th>  F-statistic:       </th> <td>1.431e+04</td>\n",
              "</tr>\n",
              "<tr>\n",
              "  <th>Date:</th>             <td>Mon, 03 Oct 2022</td> <th>  Prob (F-statistic):</th> <td>4.35e-61</td> \n",
              "</tr>\n",
              "<tr>\n",
              "  <th>Time:</th>                 <td>02:41:26</td>     <th>  Log-Likelihood:    </th> <td> -183.01</td> \n",
              "</tr>\n",
              "<tr>\n",
              "  <th>No. Observations:</th>      <td>    50</td>      <th>  AIC:               </th> <td>   370.0</td> \n",
              "</tr>\n",
              "<tr>\n",
              "  <th>Df Residuals:</th>          <td>    48</td>      <th>  BIC:               </th> <td>   373.8</td> \n",
              "</tr>\n",
              "<tr>\n",
              "  <th>Df Model:</th>              <td>     1</td>      <th>                     </th>     <td> </td>    \n",
              "</tr>\n",
              "<tr>\n",
              "  <th>Covariance Type:</th>      <td>nonrobust</td>    <th>                     </th>     <td> </td>    \n",
              "</tr>\n",
              "</table>\n",
              "<table class=\"simpletable\">\n",
              "<tr>\n",
              "    <td></td>       <th>coef</th>     <th>std err</th>      <th>t</th>      <th>P>|t|</th>  <th>[0.025</th>    <th>0.975]</th>  \n",
              "</tr>\n",
              "<tr>\n",
              "  <th>const</th> <td>   35.1251</td> <td>    2.675</td> <td>   13.132</td> <td> 0.000</td> <td>   29.747</td> <td>   40.503</td>\n",
              "</tr>\n",
              "<tr>\n",
              "  <th>x</th>     <td>    5.5140</td> <td>    0.046</td> <td>  119.626</td> <td> 0.000</td> <td>    5.421</td> <td>    5.607</td>\n",
              "</tr>\n",
              "</table>\n",
              "<table class=\"simpletable\">\n",
              "<tr>\n",
              "  <th>Omnibus:</th>       <td> 0.982</td> <th>  Durbin-Watson:     </th> <td>   2.259</td>\n",
              "</tr>\n",
              "<tr>\n",
              "  <th>Prob(Omnibus):</th> <td> 0.612</td> <th>  Jarque-Bera (JB):  </th> <td>   0.440</td>\n",
              "</tr>\n",
              "<tr>\n",
              "  <th>Skew:</th>          <td>-0.204</td> <th>  Prob(JB):          </th> <td>   0.802</td>\n",
              "</tr>\n",
              "<tr>\n",
              "  <th>Kurtosis:</th>      <td> 3.211</td> <th>  Cond. No.          </th> <td>    114.</td>\n",
              "</tr>\n",
              "</table><br/><br/>Notes:<br/>[1] Standard Errors assume that the covariance matrix of the errors is correctly specified."
            ]
          },
          "metadata": {},
          "execution_count": 14
        }
      ]
    },
    {
      "cell_type": "markdown",
      "source": [
        "Calculate Standard Deviation to compare to MLE"
      ],
      "metadata": {
        "id": "vtZn8uNSxqrT"
      }
    },
    {
      "cell_type": "code",
      "source": [
        "residual = model.resid\n",
        "sd = np.std(residual)\n",
        "sd"
      ],
      "metadata": {
        "colab": {
          "base_uri": "https://localhost:8080/"
        },
        "id": "9wRSG2v4pSQC",
        "outputId": "ee905b7d-d2d9-46d7-b33e-3816aed968f3"
      },
      "execution_count": 15,
      "outputs": [
        {
          "output_type": "execute_result",
          "data": {
            "text/plain": [
              "9.405007699007081"
            ]
          },
          "metadata": {},
          "execution_count": 15
        }
      ]
    },
    {
      "cell_type": "code",
      "source": [
        "def MLE_Norm(parameters):\n",
        "  const, beta, sd = parameters\n",
        "  pred = const + beta*x\n",
        "  LL = np.sum(stats.norm.logpdf(y, pred, sd))\n",
        "  neg_LL = -1*LL\n",
        "  return neg_LL\n",
        "MLE = minimize(MLE_Norm, np.array([2,2,2]), method='L-BFGS-B')\n",
        "MLE"
      ],
      "metadata": {
        "colab": {
          "base_uri": "https://localhost:8080/"
        },
        "id": "vIBnJIOgudtn",
        "outputId": "dacf570a-ac17-4087-a2d3-631debd835ba"
      },
      "execution_count": 23,
      "outputs": [
        {
          "output_type": "execute_result",
          "data": {
            "text/plain": [
              "      fun: 190.65713029349607\n",
              " hess_inv: <3x3 LbfgsInvHessProduct with dtype=float64>\n",
              "      jac: array([-2.84217071e-06, -2.27373677e-04, -1.98951950e-05])\n",
              "  message: 'CONVERGENCE: REL_REDUCTION_OF_F_<=_FACTR*EPSMCH'\n",
              "     nfev: 292\n",
              "      nit: 49\n",
              "     njev: 73\n",
              "   status: 0\n",
              "  success: True\n",
              "        x: array([36.07141991,  5.5281024 , 10.95945057])"
            ]
          },
          "metadata": {},
          "execution_count": 23
        }
      ]
    },
    {
      "cell_type": "markdown",
      "source": [
        "The parameter, constant and standard deviation are all equivalent between the two."
      ],
      "metadata": {
        "id": "Qw6kzPKNxxWE"
      }
    }
  ]
}