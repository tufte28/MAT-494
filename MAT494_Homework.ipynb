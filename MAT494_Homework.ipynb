{
  "nbformat": 4,
  "nbformat_minor": 0,
  "metadata": {
    "colab": {
      "provenance": [],
      "authorship_tag": "ABX9TyMIZ6QdMvdzv9gLBEwZgl29",
      "include_colab_link": true
    },
    "kernelspec": {
      "name": "python3",
      "display_name": "Python 3"
    },
    "language_info": {
      "name": "python"
    }
  },
  "cells": [
    {
      "cell_type": "markdown",
      "metadata": {
        "id": "view-in-github",
        "colab_type": "text"
      },
      "source": [
        "<a href=\"https://colab.research.google.com/github/tufte28/MAT-494/blob/main/MAT494_Homework.ipynb\" target=\"_parent\"><img src=\"https://colab.research.google.com/assets/colab-badge.svg\" alt=\"Open In Colab\"/></a>"
      ]
    },
    {
      "cell_type": "code",
      "execution_count": null,
      "metadata": {
        "id": "HyxmfQwigp2E"
      },
      "outputs": [],
      "source": []
    },
    {
      "cell_type": "markdown",
      "source": [
        "MAT 494 Homework Notebook\n"
      ],
      "metadata": {
        "id": "eTuC6pNYgqhX"
      }
    },
    {
      "cell_type": "markdown",
      "source": [
        "1.3 Linear Regression"
      ],
      "metadata": {
        "id": "-bNngvXgER3z"
      }
    },
    {
      "cell_type": "code",
      "source": [
        "import matplotlib.pyplot as plt\n",
        "import numpy as np\n",
        "from sklearn import datasets, linear_model\n",
        "from sklearn.metrics import mean_squared_error, r2_score"
      ],
      "metadata": {
        "id": "msreSt5vI4eJ"
      },
      "execution_count": 18,
      "outputs": []
    },
    {
      "cell_type": "markdown",
      "source": [
        "Load in data to use in regression"
      ],
      "metadata": {
        "id": "HjFOEwUaNm22"
      }
    },
    {
      "cell_type": "code",
      "source": [
        "import pandas as pd\n",
        "url = 'https://raw.githubusercontent.com/tufte28/MAT-494/main/hsb2.csv'\n",
        "data1 = pd.read_csv(url)"
      ],
      "metadata": {
        "id": "tqYSbAa0I7eH"
      },
      "execution_count": 19,
      "outputs": []
    },
    {
      "cell_type": "markdown",
      "source": [
        "Graph relationship between variables (students' math score and science score)"
      ],
      "metadata": {
        "id": "RZgMURHUOGHx"
      }
    },
    {
      "cell_type": "code",
      "source": [
        "data1.plot(x='math',y='science',style='o')\n",
        "plt.xlabel('math score')\n",
        "plt.ylabel('science score')\n",
        "plt.show()"
      ],
      "metadata": {
        "colab": {
          "base_uri": "https://localhost:8080/",
          "height": 279
        },
        "id": "Dr2VKgjBNhsb",
        "outputId": "50a9da40-b268-47e5-c3ac-dbea8202295b"
      },
      "execution_count": 22,
      "outputs": [
        {
          "output_type": "display_data",
          "data": {
            "text/plain": [
              "<Figure size 432x288 with 1 Axes>"
            ],
            "image/png": "[encoded data removed]"
          },
          "metadata": {
            "needs_background": "light"
          }
        }
      ]
    },
    {
      "cell_type": "markdown",
      "source": [
        "Define Independent and Dependent Variables"
      ],
      "metadata": {
        "id": "PKxIsQ1ZPryL"
      }
    },
    {
      "cell_type": "code",
      "source": [
        "x = pd.DataFrame(data1['math'])\n",
        "y = pd.DataFrame(data1['science'])"
      ],
      "metadata": {
        "id": "8BsbY94EO9ww"
      },
      "execution_count": 24,
      "outputs": []
    },
    {
      "cell_type": "markdown",
      "source": [
        "Utilizing Train and Test Sets"
      ],
      "metadata": {
        "id": "kK8XU-eWQAS7"
      }
    },
    {
      "cell_type": "code",
      "source": [
        "from sklearn.model_selection import train_test_split\n",
        "x_train, x_test, y_train, y_test = train_test_split(x,y, test_size=0.2, random_state=1)"
      ],
      "metadata": {
        "id": "rWwdVVbBQRss"
      },
      "execution_count": 25,
      "outputs": []
    },
    {
      "cell_type": "code",
      "source": [
        "from sklearn.linear_model import LinearRegression\n",
        "regressor = LinearRegression()\n",
        "regressor.fit(x_train,y_train)\n",
        "y_pred=regressor.predict(x_test)\n",
        "print('Intercept: ', regressor.intercept_)\n",
        "print('Coefficient: ', regressor.coef_)"
      ],
      "metadata": {
        "colab": {
          "base_uri": "https://localhost:8080/"
        },
        "id": "6DoHYvApQ9Xn",
        "outputId": "0384611f-abea-4bd5-c484-b5c9758f6613"
      },
      "execution_count": 41,
      "outputs": [
        {
          "output_type": "stream",
          "name": "stdout",
          "text": [
            "Intercept:  [18.0624705]\n",
            "Coefficient:  [[0.6378268]]\n"
          ]
        }
      ]
    },
    {
      "cell_type": "markdown",
      "source": [
        "Plotting the fitted line"
      ],
      "metadata": {
        "id": "jRCG2kEbRirR"
      }
    },
    {
      "cell_type": "code",
      "source": [
        "data1.plot(x='math',y='science',style='o')\n",
        "plt.xlabel('math score')\n",
        "plt.ylabel('science score')\n",
        "plt.plot(x_test, y_pred, color='red', linewidth=3)\n",
        "plt.show()"
      ],
      "metadata": {
        "colab": {
          "base_uri": "https://localhost:8080/",
          "height": 279
        },
        "id": "yZrvNHaTSYJT",
        "outputId": "e42c09e9-2902-4c42-8704-5339f3a5f661"
      },
      "execution_count": 39,
      "outputs": [
        {
          "output_type": "display_data",
          "data": {
            "text/plain": [
              "<Figure size 432x288 with 1 Axes>"
            ],
            "image/png": "[encoded data removed]"
          },
          "metadata": {
            "needs_background": "light"
          }
        }
      ]
    },
    {
      "cell_type": "markdown",
      "source": [
        "Evaluating the Model"
      ],
      "metadata": {
        "id": "z_haUUBhUmZ4"
      }
    },
    {
      "cell_type": "code",
      "source": [
        "from sklearn import metrics\n",
        "print('Goodness of fit: ',r2_score(y_test,y_pred))\n",
        "print('Mean Squared Error: ', metrics.mean_squared_error(y_test,y_pred))"
      ],
      "metadata": {
        "colab": {
          "base_uri": "https://localhost:8080/"
        },
        "id": "FfhakbPQUpyU",
        "outputId": "61ffb63e-efa7-4a72-c02d-20f888da445b"
      },
      "execution_count": 48,
      "outputs": [
        {
          "output_type": "stream",
          "name": "stdout",
          "text": [
            "Goodness of fit:  0.40976617929956893\n",
            "Mean Squared Error:  67.55816311737134\n"
          ]
        }
      ]
    }
  ]
}