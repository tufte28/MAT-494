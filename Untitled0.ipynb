{
  "nbformat": 4,
  "nbformat_minor": 0,
  "metadata": {
    "colab": {
      "provenance": [],
      "authorship_tag": "ABX9TyOwjDDoVWzETNtMzU4NQlri",
      "include_colab_link": true
    },
    "kernelspec": {
      "name": "python3",
      "display_name": "Python 3"
    },
    "language_info": {
      "name": "python"
    }
  },
  "cells": [
    {
      "cell_type": "markdown",
      "metadata": {
        "id": "view-in-github",
        "colab_type": "text"
      },
      "source": [
        "<a href=\"https://colab.research.google.com/github/tufte28/MAT-494/blob/main/Untitled0.ipynb\" target=\"_parent\"><img src=\"https://colab.research.google.com/assets/colab-badge.svg\" alt=\"Open In Colab\"/></a>"
      ]
    },
    {
      "cell_type": "code",
      "execution_count": null,
      "metadata": {
        "id": "HyxmfQwigp2E"
      },
      "outputs": [],
      "source": []
    },
    {
      "cell_type": "markdown",
      "source": [
        "MAT 494 Homework Notebook\n"
      ],
      "metadata": {
        "id": "eTuC6pNYgqhX"
      }
    },
    {
      "cell_type": "code",
      "source": [
        "v1=[8,6];\n",
        "v2=[8,2];\n",
        "c1=5;\n",
        "c2=3;\n",
        "\n",
        "LC=c1*v1+c2*v2\n"
      ],
      "metadata": {
        "id": "V2qmwefepbRI"
      },
      "execution_count": 2,
      "outputs": []
    }
  ]
}