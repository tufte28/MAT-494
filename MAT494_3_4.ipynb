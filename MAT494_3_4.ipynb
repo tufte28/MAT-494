{
  "nbformat": 4,
  "nbformat_minor": 0,
  "metadata": {
    "colab": {
      "provenance": [],
      "authorship_tag": "ABX9TyMYXeI3PyfVMj/1U40+x7BF",
      "include_colab_link": true
    },
    "kernelspec": {
      "name": "python3",
      "display_name": "Python 3"
    },
    "language_info": {
      "name": "python"
    }
  },
  "cells": [
    {
      "cell_type": "markdown",
      "metadata": {
        "id": "view-in-github",
        "colab_type": "text"
      },
      "source": [
        "<a href=\"https://colab.research.google.com/github/tufte28/MAT-494/blob/main/MAT494_3_4.ipynb\" target=\"_parent\"><img src=\"https://colab.research.google.com/assets/colab-badge.svg\" alt=\"Open In Colab\"/></a>"
      ]
    },
    {
      "cell_type": "markdown",
      "source": [
        "3.4: Logistic Regression"
      ],
      "metadata": {
        "id": "-BPpxGR5XAYT"
      }
    },
    {
      "cell_type": "code",
      "execution_count": 5,
      "metadata": {
        "id": "a-91vHy2W94U"
      },
      "outputs": [],
      "source": [
        "import numpy as np\n",
        "from sklearn.linear_model import LogisticRegression\n",
        "from sklearn.metrics import classification_report, confusion_matrix\n",
        "\n",
        "x = np.arange(10).reshape(-1, 1)\n",
        "y = np.array([0, 1, 0, 1, 1, 1, 1, 0, 1, 1])"
      ]
    },
    {
      "cell_type": "code",
      "source": [
        "model = LogisticRegression(solver='liblinear', C=10.0, random_state=0)\n",
        "model.fit(x, y)"
      ],
      "metadata": {
        "colab": {
          "base_uri": "https://localhost:8080/"
        },
        "id": "cYkDfBRHlTRc",
        "outputId": "bf18c364-a3a8-47e5-e044-2737205aff33"
      },
      "execution_count": 6,
      "outputs": [
        {
          "output_type": "execute_result",
          "data": {
            "text/plain": [
              "LogisticRegression(C=10.0, random_state=0, solver='liblinear')"
            ]
          },
          "metadata": {},
          "execution_count": 6
        }
      ]
    },
    {
      "cell_type": "code",
      "source": [
        "p_pred = model.predict_proba(x)\n",
        "y_pred = model.predict(x)\n",
        "score_ = model.score(x, y)\n",
        "conf_m = confusion_matrix(y, y_pred)\n",
        "report = classification_report(y, y_pred)"
      ],
      "metadata": {
        "id": "KVKZGk4vlVH8"
      },
      "execution_count": 7,
      "outputs": []
    },
    {
      "cell_type": "markdown",
      "source": [
        "Display Equation Estimates"
      ],
      "metadata": {
        "id": "5DESN4X3l6iO"
      }
    },
    {
      "cell_type": "code",
      "source": [
        "print('intercept:', model.intercept_)\n",
        "print('coef:', model.coef_, end='\\n\\n')"
      ],
      "metadata": {
        "colab": {
          "base_uri": "https://localhost:8080/"
        },
        "id": "RIRvlxW9liWZ",
        "outputId": "6db0d5ce-e3ae-4f91-f847-f4f96bece775"
      },
      "execution_count": 8,
      "outputs": [
        {
          "output_type": "stream",
          "name": "stdout",
          "text": [
            "intercept: [-0.26172038]\n",
            "coef: [[0.27672837]]\n",
            "\n"
          ]
        }
      ]
    },
    {
      "cell_type": "markdown",
      "source": [
        "Display probability for each x and corresponding prediction"
      ],
      "metadata": {
        "id": "zq-Syux0mLL0"
      }
    },
    {
      "cell_type": "code",
      "source": [
        "print('p_pred:', p_pred, sep='\\n', end='\\n\\n')\n",
        "print('y_pred:', y_pred, end='\\n\\n')"
      ],
      "metadata": {
        "colab": {
          "base_uri": "https://localhost:8080/"
        },
        "id": "ixeqgthfl18d",
        "outputId": "85832c1b-1a46-4ceb-ee94-53241a74da92"
      },
      "execution_count": 10,
      "outputs": [
        {
          "output_type": "stream",
          "name": "stdout",
          "text": [
            "p_pred:\n",
            "[[0.56505915 0.43494085]\n",
            " [0.49624807 0.50375193]\n",
            " [0.42757883 0.57242117]\n",
            " [0.36159115 0.63840885]\n",
            " [0.30044218 0.69955782]\n",
            " [0.24565504 0.75434496]\n",
            " [0.19803045 0.80196955]\n",
            " [0.15770844 0.84229156]\n",
            " [0.12432384 0.87567616]\n",
            " [0.09719082 0.90280918]]\n",
            "\n",
            "y_pred: [0 1 1 1 1 1 1 1 1 1]\n",
            "\n"
          ]
        }
      ]
    },
    {
      "cell_type": "markdown",
      "source": [
        "Display ccuracy of predictions"
      ],
      "metadata": {
        "id": "HowMbYfXmPj4"
      }
    },
    {
      "cell_type": "code",
      "source": [
        "print('score_:', score_, end='\\n\\n')"
      ],
      "metadata": {
        "colab": {
          "base_uri": "https://localhost:8080/"
        },
        "id": "Qy-8QEGvmQeZ",
        "outputId": "138a4df0-ca92-47be-f399-a6ddbd7a0ba6"
      },
      "execution_count": 11,
      "outputs": [
        {
          "output_type": "stream",
          "name": "stdout",
          "text": [
            "score_: 0.8\n",
            "\n"
          ]
        }
      ]
    },
    {
      "cell_type": "markdown",
      "source": [
        "Confusion Matrix"
      ],
      "metadata": {
        "id": "US8vwWk0m3M5"
      }
    },
    {
      "cell_type": "code",
      "source": [
        "print('conf_m:', conf_m, sep='\\n', end='\\n\\n')"
      ],
      "metadata": {
        "colab": {
          "base_uri": "https://localhost:8080/"
        },
        "id": "LorDB-cMm46E",
        "outputId": "099b0633-5db6-46ce-cb30-c40465090a70"
      },
      "execution_count": 12,
      "outputs": [
        {
          "output_type": "stream",
          "name": "stdout",
          "text": [
            "conf_m:\n",
            "[[1 2]\n",
            " [0 7]]\n",
            "\n"
          ]
        }
      ]
    }
  ]
}