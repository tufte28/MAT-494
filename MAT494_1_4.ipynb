{
  "nbformat": 4,
  "nbformat_minor": 0,
  "metadata": {
    "colab": {
      "provenance": [],
      "authorship_tag": "ABX9TyNNouhpi3p+R6kSh/XuWtT1",
      "include_colab_link": true
    },
    "kernelspec": {
      "name": "python3",
      "display_name": "Python 3"
    },
    "language_info": {
      "name": "python"
    }
  },
  "cells": [
    {
      "cell_type": "markdown",
      "metadata": {
        "id": "view-in-github",
        "colab_type": "text"
      },
      "source": [
        "<a href=\"https://colab.research.google.com/github/tufte28/MAT-494/blob/main/MAT494_1_4.ipynb\" target=\"_parent\"><img src=\"https://colab.research.google.com/assets/colab-badge.svg\" alt=\"Open In Colab\"/></a>"
      ]
    },
    {
      "cell_type": "markdown",
      "source": [
        "Homework 1.4: Principal Component Analysis"
      ],
      "metadata": {
        "id": "M25GrzyLwg1F"
      }
    },
    {
      "cell_type": "markdown",
      "source": [
        "Singular Value Decomposition"
      ],
      "metadata": {
        "id": "bU6Kcwz3wvG9"
      }
    },
    {
      "cell_type": "code",
      "source": [
        "import numpy as np\n",
        "from sklearn.datasets import load_digits\n",
        "from matplotlib import pyplot as plt\n",
        "from sklearn.decomposition import TruncatedSVD\n",
        "float_formatter = lambda x: \"%.2f\" % x\n",
        "np.set_printoptions(formatter={'float_kind':float_formatter})\n",
        "from sklearn.ensemble import RandomForestClassifier\n",
        "\n",
        "X,y = load_digits(return_X_y=True)\n",
        "print(X.shape)\n",
        "print(y)"
      ],
      "metadata": {
        "colab": {
          "base_uri": "https://localhost:8080/"
        },
        "id": "P87evzuXwsmJ",
        "outputId": "6ea0f692-6d0b-4a6f-f933-e2bc72b4ca96"
      },
      "execution_count": 66,
      "outputs": [
        {
          "output_type": "stream",
          "name": "stdout",
          "text": [
            "(1797, 64)\n",
            "[0 1 2 ... 8 9 8]\n"
          ]
        }
      ]
    },
    {
      "cell_type": "code",
      "source": [
        "image = X[0]\n",
        "image = image.reshape((8,8))\n",
        "plt.matshow(image, cmap='rainbow')"
      ],
      "metadata": {
        "colab": {
          "base_uri": "https://localhost:8080/",
          "height": 298
        },
        "id": "WJSqWriR2sRu",
        "outputId": "3d9b43eb-e863-4cb9-d5b9-2695dcf56e8b"
      },
      "execution_count": 67,
      "outputs": [
        {
          "output_type": "execute_result",
          "data": {
            "text/plain": [
              "<matplotlib.image.AxesImage at 0x7f9d897d3710>"
            ]
          },
          "metadata": {},
          "execution_count": 67
        },
        {
          "output_type": "display_data",
          "data": {
            "text/plain": [
              "<Figure size 288x288 with 1 Axes>"
            ],
            "image/png": "[encoded data removed]"
          },
          "metadata": {}
        }
      ]
    },
    {
      "cell_type": "markdown",
      "source": [
        "Now, applying Singular Value Decomposition"
      ],
      "metadata": {
        "id": "OwmcHe0W4AjK"
      }
    },
    {
      "cell_type": "code",
      "source": [
        "U, s, V = np.linalg.svd(image)\n",
        "S = np.zeros((image.shape[0],image.shape[1]))\n",
        "S[:image.shape[0],:image.shape[0]] = np.diag(s)\n",
        "n_component = 2\n",
        "S2 = S[:, :n_component]\n",
        "V2 = V[:n_component, :]\n",
        "A = U.dot(S2.dot(V2))\n",
        "print(A)"
      ],
      "metadata": {
        "colab": {
          "base_uri": "https://localhost:8080/"
        },
        "id": "PSl7nBsC4ABp",
        "outputId": "c738544a-c4aa-4d64-9ad0-ed7b745f2875"
      },
      "execution_count": 68,
      "outputs": [
        {
          "output_type": "stream",
          "name": "stdout",
          "text": [
            "[[0.00 -1.10 4.74 12.16 9.52 2.44 -1.33 0.00]\n",
            " [0.00 1.81 15.31 13.79 11.23 12.27 4.48 0.00]\n",
            " [0.00 3.86 13.36 1.19 1.49 12.59 7.65 0.00]\n",
            " [0.00 3.39 10.76 -0.35 0.20 10.36 6.61 0.00]\n",
            " [0.00 3.11 9.52 -0.85 -0.24 9.26 6.04 0.00]\n",
            " [0.00 3.61 11.79 0.12 0.60 11.27 7.07 0.00]\n",
            " [0.00 2.08 12.63 8.58 7.13 10.60 4.66 0.00]\n",
            " [0.00 -1.18 4.88 12.71 9.96 2.47 -1.44 0.00]]\n"
          ]
        }
      ]
    },
    {
      "cell_type": "code",
      "source": [
        "plt.matshow(A, cmap='rainbow')"
      ],
      "metadata": {
        "colab": {
          "base_uri": "https://localhost:8080/",
          "height": 298
        },
        "id": "Cg0jDloY5rQ4",
        "outputId": "88ac6fb8-4c5c-4741-a0cd-edb3b4b64cb2"
      },
      "execution_count": 69,
      "outputs": [
        {
          "output_type": "execute_result",
          "data": {
            "text/plain": [
              "<matplotlib.image.AxesImage at 0x7f9d89708390>"
            ]
          },
          "metadata": {},
          "execution_count": 69
        },
        {
          "output_type": "display_data",
          "data": {
            "text/plain": [
              "<Figure size 288x288 with 1 Axes>"
            ],
            "image/png": "[encoded data removed]"
          },
          "metadata": {}
        }
      ]
    },
    {
      "cell_type": "markdown",
      "source": [
        "Principal Component Analysis"
      ],
      "metadata": {
        "id": "6fDMJE2L6eT5"
      }
    },
    {
      "cell_type": "markdown",
      "source": [
        "Loading in Data and Shaping"
      ],
      "metadata": {
        "id": "pUV3uJ5HF6bk"
      }
    },
    {
      "cell_type": "code",
      "source": [
        "from sklearn.datasets import load_wine\n",
        "winedata = load_wine()\n",
        "X, y = winedata['data'], winedata['target']\n",
        "print(X.shape)\n",
        "print(y.shape)"
      ],
      "metadata": {
        "colab": {
          "base_uri": "https://localhost:8080/"
        },
        "id": "O1W0l6ys6lkA",
        "outputId": "5773a19a-f6f5-4595-e9ab-89b8e123fd92"
      },
      "execution_count": 70,
      "outputs": [
        {
          "output_type": "stream",
          "name": "stdout",
          "text": [
            "(178, 13)\n",
            "(178,)\n"
          ]
        }
      ]
    },
    {
      "cell_type": "markdown",
      "source": [
        "Execute PCA including normalizing the scale"
      ],
      "metadata": {
        "id": "ppILVv0WGMZc"
      }
    },
    {
      "cell_type": "code",
      "source": [
        "from sklearn.decomposition import PCA\n",
        "from sklearn.preprocessing import StandardScaler\n",
        "from sklearn.pipeline import Pipeline\n",
        "pca=PCA()\n",
        "pipe = Pipeline([('scaler', StandardScaler()), ('pca', pca)])\n",
        "Xt = pipe.fit_transform(X)\n",
        "plot = plt.scatter(Xt[:,0], Xt[:,1], c=y)\n",
        "plt.legend(handles=plot.legend_elements()[0], labels=list(winedata['target_names']))\n",
        "plt.show()"
      ],
      "metadata": {
        "colab": {
          "base_uri": "https://localhost:8080/",
          "height": 268
        },
        "id": "eS0RYi3t852v",
        "outputId": "20614437-b1a3-4098-c958-9158b38a3e04"
      },
      "execution_count": 71,
      "outputs": [
        {
          "output_type": "display_data",
          "data": {
            "text/plain": [
              "<Figure size 432x288 with 1 Axes>"
            ],
            "image/png": "[encoded data removed]"
          },
          "metadata": {}
        }
      ]
    }
  ]
}